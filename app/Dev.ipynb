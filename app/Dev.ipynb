{
 "cells": [
  {
   "cell_type": "code",
   "execution_count": 1,
   "metadata": {},
   "outputs": [],
   "source": [
    "from datetime import datetime\n",
    "from utils import get_pg_engine\n",
    "import pandas as pd\n",
    "import numpy as np"
   ]
  },
  {
   "cell_type": "code",
   "execution_count": 2,
   "metadata": {},
   "outputs": [],
   "source": [
    "engine = get_pg_engine()"
   ]
  },
  {
   "cell_type": "code",
   "execution_count": 3,
   "metadata": {},
   "outputs": [],
   "source": [
    "corrs = pd.read_sql('select * from correlations_2019_11_01_2020_02_11_1000', engine)"
   ]
  },
  {
   "cell_type": "code",
   "execution_count": 4,
   "metadata": {},
   "outputs": [
    {
     "data": {
      "text/plain": [
       "(72771, 5)"
      ]
     },
     "execution_count": 4,
     "metadata": {},
     "output_type": "execute_result"
    }
   ],
   "source": [
    "corrs.shape"
   ]
  },
  {
   "cell_type": "code",
   "execution_count": 5,
   "metadata": {},
   "outputs": [
    {
     "data": {
      "text/html": [
       "<div>\n",
       "<style scoped>\n",
       "    .dataframe tbody tr th:only-of-type {\n",
       "        vertical-align: middle;\n",
       "    }\n",
       "\n",
       "    .dataframe tbody tr th {\n",
       "        vertical-align: top;\n",
       "    }\n",
       "\n",
       "    .dataframe thead th {\n",
       "        text-align: right;\n",
       "    }\n",
       "</style>\n",
       "<table border=\"1\" class=\"dataframe\">\n",
       "  <thead>\n",
       "    <tr style=\"text-align: right;\">\n",
       "      <th></th>\n",
       "      <th>index</th>\n",
       "      <th>symbol1</th>\n",
       "      <th>symbol2</th>\n",
       "      <th>cor</th>\n",
       "      <th>id</th>\n",
       "    </tr>\n",
       "  </thead>\n",
       "  <tbody>\n",
       "    <tr>\n",
       "      <th>872</th>\n",
       "      <td>16055</td>\n",
       "      <td>AFRK-LN</td>\n",
       "      <td>BLVN-LN</td>\n",
       "      <td>0.954782</td>\n",
       "      <td>2019_11_01_2020_02_11_1000</td>\n",
       "    </tr>\n",
       "    <tr>\n",
       "      <th>1052</th>\n",
       "      <td>17589</td>\n",
       "      <td>ALU-LN</td>\n",
       "      <td>BOTB-LN</td>\n",
       "      <td>0.959380</td>\n",
       "      <td>2019_11_01_2020_02_11_1000</td>\n",
       "    </tr>\n",
       "    <tr>\n",
       "      <th>1817</th>\n",
       "      <td>22967</td>\n",
       "      <td>BOU-LN</td>\n",
       "      <td>CGO-LN</td>\n",
       "      <td>1.000000</td>\n",
       "      <td>2019_11_01_2020_02_11_1000</td>\n",
       "    </tr>\n",
       "    <tr>\n",
       "      <th>2000</th>\n",
       "      <td>24113</td>\n",
       "      <td>BOU-LN</td>\n",
       "      <td>CLLN-LN</td>\n",
       "      <td>1.000000</td>\n",
       "      <td>2019_11_01_2020_02_11_1000</td>\n",
       "    </tr>\n",
       "    <tr>\n",
       "      <th>2013</th>\n",
       "      <td>24126</td>\n",
       "      <td>CGO-LN</td>\n",
       "      <td>CLLN-LN</td>\n",
       "      <td>1.000000</td>\n",
       "      <td>2019_11_01_2020_02_11_1000</td>\n",
       "    </tr>\n",
       "    <tr>\n",
       "      <th>2432</th>\n",
       "      <td>26757</td>\n",
       "      <td>ALU-LN</td>\n",
       "      <td>CPS-LN</td>\n",
       "      <td>0.967104</td>\n",
       "      <td>2019_11_01_2020_02_11_1000</td>\n",
       "    </tr>\n",
       "    <tr>\n",
       "      <th>3249</th>\n",
       "      <td>30951</td>\n",
       "      <td>AFM-LN</td>\n",
       "      <td>DFS-LN</td>\n",
       "      <td>0.956351</td>\n",
       "      <td>2019_11_01_2020_02_11_1000</td>\n",
       "    </tr>\n",
       "    <tr>\n",
       "      <th>3278</th>\n",
       "      <td>30980</td>\n",
       "      <td>BBY-LN</td>\n",
       "      <td>DFS-LN</td>\n",
       "      <td>0.951559</td>\n",
       "      <td>2019_11_01_2020_02_11_1000</td>\n",
       "    </tr>\n",
       "    <tr>\n",
       "      <th>3875</th>\n",
       "      <td>33663</td>\n",
       "      <td>BOU-LN</td>\n",
       "      <td>DVT-LN</td>\n",
       "      <td>1.000000</td>\n",
       "      <td>2019_11_01_2020_02_11_1000</td>\n",
       "    </tr>\n",
       "    <tr>\n",
       "      <th>3888</th>\n",
       "      <td>33676</td>\n",
       "      <td>CGO-LN</td>\n",
       "      <td>DVT-LN</td>\n",
       "      <td>1.000000</td>\n",
       "      <td>2019_11_01_2020_02_11_1000</td>\n",
       "    </tr>\n",
       "    <tr>\n",
       "      <th>3891</th>\n",
       "      <td>33679</td>\n",
       "      <td>CLLN-LN</td>\n",
       "      <td>DVT-LN</td>\n",
       "      <td>1.000000</td>\n",
       "      <td>2019_11_01_2020_02_11_1000</td>\n",
       "    </tr>\n",
       "    <tr>\n",
       "      <th>4157</th>\n",
       "      <td>34824</td>\n",
       "      <td>CLIN-LN</td>\n",
       "      <td>ECEL-LN</td>\n",
       "      <td>0.958283</td>\n",
       "      <td>2019_11_01_2020_02_11_1000</td>\n",
       "    </tr>\n",
       "    <tr>\n",
       "      <th>5806</th>\n",
       "      <td>41284</td>\n",
       "      <td>ASCL-LN</td>\n",
       "      <td>EYE-LN</td>\n",
       "      <td>0.953161</td>\n",
       "      <td>2019_11_01_2020_02_11_1000</td>\n",
       "    </tr>\n",
       "    <tr>\n",
       "      <th>6042</th>\n",
       "      <td>42067</td>\n",
       "      <td>BOU-LN</td>\n",
       "      <td>FHP-LN</td>\n",
       "      <td>1.000000</td>\n",
       "      <td>2019_11_01_2020_02_11_1000</td>\n",
       "    </tr>\n",
       "    <tr>\n",
       "      <th>6055</th>\n",
       "      <td>42080</td>\n",
       "      <td>CGO-LN</td>\n",
       "      <td>FHP-LN</td>\n",
       "      <td>1.000000</td>\n",
       "      <td>2019_11_01_2020_02_11_1000</td>\n",
       "    </tr>\n",
       "    <tr>\n",
       "      <th>6058</th>\n",
       "      <td>42083</td>\n",
       "      <td>CLLN-LN</td>\n",
       "      <td>FHP-LN</td>\n",
       "      <td>1.000000</td>\n",
       "      <td>2019_11_01_2020_02_11_1000</td>\n",
       "    </tr>\n",
       "    <tr>\n",
       "      <th>6083</th>\n",
       "      <td>42108</td>\n",
       "      <td>DVT-LN</td>\n",
       "      <td>FHP-LN</td>\n",
       "      <td>1.000000</td>\n",
       "      <td>2019_11_01_2020_02_11_1000</td>\n",
       "    </tr>\n",
       "    <tr>\n",
       "      <th>6225</th>\n",
       "      <td>42793</td>\n",
       "      <td>AFM-LN</td>\n",
       "      <td>FORT-LN</td>\n",
       "      <td>0.966300</td>\n",
       "      <td>2019_11_01_2020_02_11_1000</td>\n",
       "    </tr>\n",
       "    <tr>\n",
       "      <th>6297</th>\n",
       "      <td>42865</td>\n",
       "      <td>DFS-LN</td>\n",
       "      <td>FORT-LN</td>\n",
       "      <td>0.969838</td>\n",
       "      <td>2019_11_01_2020_02_11_1000</td>\n",
       "    </tr>\n",
       "    <tr>\n",
       "      <th>7848</th>\n",
       "      <td>47848</td>\n",
       "      <td>EMIS-LN</td>\n",
       "      <td>GRID-LN</td>\n",
       "      <td>0.961685</td>\n",
       "      <td>2019_11_01_2020_02_11_1000</td>\n",
       "    </tr>\n",
       "  </tbody>\n",
       "</table>\n",
       "</div>"
      ],
      "text/plain": [
       "      index  symbol1  symbol2       cor                          id\n",
       "872   16055  AFRK-LN  BLVN-LN  0.954782  2019_11_01_2020_02_11_1000\n",
       "1052  17589   ALU-LN  BOTB-LN  0.959380  2019_11_01_2020_02_11_1000\n",
       "1817  22967   BOU-LN   CGO-LN  1.000000  2019_11_01_2020_02_11_1000\n",
       "2000  24113   BOU-LN  CLLN-LN  1.000000  2019_11_01_2020_02_11_1000\n",
       "2013  24126   CGO-LN  CLLN-LN  1.000000  2019_11_01_2020_02_11_1000\n",
       "2432  26757   ALU-LN   CPS-LN  0.967104  2019_11_01_2020_02_11_1000\n",
       "3249  30951   AFM-LN   DFS-LN  0.956351  2019_11_01_2020_02_11_1000\n",
       "3278  30980   BBY-LN   DFS-LN  0.951559  2019_11_01_2020_02_11_1000\n",
       "3875  33663   BOU-LN   DVT-LN  1.000000  2019_11_01_2020_02_11_1000\n",
       "3888  33676   CGO-LN   DVT-LN  1.000000  2019_11_01_2020_02_11_1000\n",
       "3891  33679  CLLN-LN   DVT-LN  1.000000  2019_11_01_2020_02_11_1000\n",
       "4157  34824  CLIN-LN  ECEL-LN  0.958283  2019_11_01_2020_02_11_1000\n",
       "5806  41284  ASCL-LN   EYE-LN  0.953161  2019_11_01_2020_02_11_1000\n",
       "6042  42067   BOU-LN   FHP-LN  1.000000  2019_11_01_2020_02_11_1000\n",
       "6055  42080   CGO-LN   FHP-LN  1.000000  2019_11_01_2020_02_11_1000\n",
       "6058  42083  CLLN-LN   FHP-LN  1.000000  2019_11_01_2020_02_11_1000\n",
       "6083  42108   DVT-LN   FHP-LN  1.000000  2019_11_01_2020_02_11_1000\n",
       "6225  42793   AFM-LN  FORT-LN  0.966300  2019_11_01_2020_02_11_1000\n",
       "6297  42865   DFS-LN  FORT-LN  0.969838  2019_11_01_2020_02_11_1000\n",
       "7848  47848  EMIS-LN  GRID-LN  0.961685  2019_11_01_2020_02_11_1000"
      ]
     },
     "execution_count": 5,
     "metadata": {},
     "output_type": "execute_result"
    }
   ],
   "source": [
    "corrs[corrs['cor'] > 0.95].head(20)"
   ]
  },
  {
   "cell_type": "code",
   "execution_count": 6,
   "metadata": {},
   "outputs": [],
   "source": [
    "price = pd.read_sql('select * from price \\\n",
    "    where \\\n",
    "     (\"timestamp\" between \\'2019-01-01-\\' and \\'2020-01-19\\')', engine)"
   ]
  },
  {
   "cell_type": "code",
   "execution_count": 19,
   "metadata": {},
   "outputs": [],
   "source": [
    "price['close_s'] = price.groupby('symbol')['close'].apply(lambda x: (x-min(x))/(max(x)-min(x)))"
   ]
  },
  {
   "cell_type": "code",
   "execution_count": 24,
   "metadata": {},
   "outputs": [
    {
     "data": {
      "text/plain": [
       "<matplotlib.axes._subplots.AxesSubplot at 0x7f96d901d320>"
      ]
     },
     "execution_count": 24,
     "metadata": {},
     "output_type": "execute_result"
    },
    {
     "data": {
      "image/png": "[encoded data removed]",
      "text/plain": [
       "<Figure size 864x432 with 1 Axes>"
      ]
     },
     "metadata": {
      "needs_background": "light"
     },
     "output_type": "display_data"
    }
   ],
   "source": [
    "price[price['symbol'].isin(['BATS-LN','AMER-LN'])][['timestamp','close_s','symbol']].pivot(index = 'timestamp', values = 'close_s', columns='symbol')\\\n",
    ".plot(figsize=(12,6))"
   ]
  },
  {
   "cell_type": "code",
   "execution_count": 25,
   "metadata": {},
   "outputs": [],
   "source": [
    "stdevs = price.groupby('symbol')['close'].apply(lambda x: np.std(x)/x.mean())"
   ]
  },
  {
   "cell_type": "code",
   "execution_count": 26,
   "metadata": {},
   "outputs": [
    {
     "data": {
      "text/plain": [
       "symbol\n",
       "PERE-LN    0.816135\n",
       "I3E-LN     0.531028\n",
       "TLW-LN     0.475787\n",
       "INSP-LN    0.364587\n",
       "ORM-LN     0.301742\n",
       "TOM-LN     0.300113\n",
       "ALY-LN     0.293004\n",
       "MNO-LN     0.285654\n",
       "SOU-LN     0.285597\n",
       "GRC-LN     0.267716\n",
       "BLVN-LN    0.261710\n",
       "IKA-LN     0.261163\n",
       "LWRF-LN    0.229217\n",
       "KOOV-LN    0.225138\n",
       "STA-LN     0.221443\n",
       "SENS-LN    0.211573\n",
       "ZOL-LN     0.205979\n",
       "MTMY-LN    0.204103\n",
       "TXP-LN     0.204033\n",
       "KAPE-LN    0.203115\n",
       "PRD-LN     0.200733\n",
       "SRO-LN     0.200081\n",
       "TRP-LN     0.199587\n",
       "IGP-LN     0.198887\n",
       "EUZ-LN     0.193901\n",
       "Name: close, dtype: float64"
      ]
     },
     "execution_count": 26,
     "metadata": {},
     "output_type": "execute_result"
    }
   ],
   "source": [
    "stdevs[stdevs>0].sort_values(ascending=False).head(25)"
   ]
  },
  {
   "cell_type": "code",
   "execution_count": 10,
   "metadata": {},
   "outputs": [
    {
     "data": {
      "text/plain": [
       "Series([], Name: close, dtype: float64)"
      ]
     },
     "execution_count": 10,
     "metadata": {},
     "output_type": "execute_result"
    }
   ],
   "source": [
    "price[price['symbol'] == 'AAS.LON']['close']"
   ]
  },
  {
   "cell_type": "code",
   "execution_count": null,
   "metadata": {},
   "outputs": [],
   "source": []
  }
 ],
 "metadata": {
  "kernelspec": {
   "display_name": "Python 3",
   "language": "python",
   "name": "python3"
  },
  "language_info": {
   "codemirror_mode": {
    "name": "ipython",
    "version": 3
   },
   "file_extension": ".py",
   "mimetype": "text/x-python",
   "name": "python",
   "nbconvert_exporter": "python",
   "pygments_lexer": "ipython3",
   "version": "3.6.8"
  }
 },
 "nbformat": 4,
 "nbformat_minor": 4
}
