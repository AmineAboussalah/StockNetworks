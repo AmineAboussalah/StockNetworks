{
 "cells": [
  {
   "cell_type": "code",
   "execution_count": 1,
   "metadata": {},
   "outputs": [],
   "source": [
    "from datetime import datetime\n",
    "from utils import get_pg_engine\n",
    "import pandas as pd\n"
   ]
  },
  {
   "cell_type": "code",
   "execution_count": 2,
   "metadata": {},
   "outputs": [],
   "source": [
    "def build_correlations(start_date = '2019-01-01', end_date = datetime.now().strftime('%Y-%m-%d'), num_stocks = 1000):\n",
    "    \n",
    "\n",
    "    assert num_stocks > 20, 'To build an interesting analysis, make sure the number of stocks to use is at least 20'\n",
    "\n",
    "    start_date_fmt = datetime.strptime(start_date, '%Y-%m-%d')\n",
    "    end_date_fmt = datetime.strptime(end_date, '%Y-%m-%d')\n",
    "    diff = end_date_fmt - start_date_fmt\n",
    "    assert int(diff.days/7) > 12, 'For more meaningful correlations increase the window between the start_date and end_date (at least 12 weeks)'\n",
    "\n",
    "    engine = get_pg_engine()\n",
    "\n",
    "    engine.execute(\"CREATE TABLE IF NOT EXISTS correlations (window_id text, start_date date, end_date date, symbol_a text, symbol_b text, correlation double precision)\")\n",
    "\n",
    "    stocks = pd.read_sql(f'select symbol, sum(volume) as volume \\\n",
    "                       from price \\\n",
    "                       where timestamp between \\'{start_date}\\' and \\'{end_date}\\' \\\n",
    "                       group by symbol \\\n",
    "                       order by sum(volume) desc \\\n",
    "                       limit {num_stocks}', engine)\n",
    "    \n",
    "    relevant_stocks = ','.join([f\"'{stock}'\" for stock in stocks['symbol'].tolist()])\n",
    "\n",
    "    price_data = pd.read_sql(f\"select timestamp, symbol, open as price\\\n",
    "                            from price\\\n",
    "                            where \\\"timestamp\\\" between \\'{start_date}\\' and \\'{end_date}\\'\\\n",
    "                            and symbol in ({relevant_stocks})\", engine)\n",
    "\n",
    "    price_data = price_data.pivot(index='timestamp', columns='symbol', values='price')\n",
    "\n",
    "    return price_data\n",
    "       "
   ]
  },
  {
   "cell_type": "code",
   "execution_count": 37,
   "metadata": {},
   "outputs": [],
   "source": [
    "df = build_correlations()"
   ]
  },
  {
   "cell_type": "code",
   "execution_count": 38,
   "metadata": {},
   "outputs": [],
   "source": [
    " = df.isna().apply('mean').sort_values(ascending=False).reset_index().rename(columns={0:'nas'}).query('nas <= 0.65')"
   ]
  },
  {
   "cell_type": "code",
   "execution_count": 39,
   "metadata": {},
   "outputs": [
    {
     "data": {
      "text/html": [
       "<div>\n",
       "<style scoped>\n",
       "    .dataframe tbody tr th:only-of-type {\n",
       "        vertical-align: middle;\n",
       "    }\n",
       "\n",
       "    .dataframe tbody tr th {\n",
       "        vertical-align: top;\n",
       "    }\n",
       "\n",
       "    .dataframe thead th {\n",
       "        text-align: right;\n",
       "    }\n",
       "</style>\n",
       "<table border=\"1\" class=\"dataframe\">\n",
       "  <thead>\n",
       "    <tr style=\"text-align: right;\">\n",
       "      <th></th>\n",
       "      <th>symbol</th>\n",
       "      <th>nas</th>\n",
       "    </tr>\n",
       "  </thead>\n",
       "  <tbody>\n",
       "    <tr>\n",
       "      <th>59</th>\n",
       "      <td>GACA.LON</td>\n",
       "      <td>0.644068</td>\n",
       "    </tr>\n",
       "    <tr>\n",
       "      <th>60</th>\n",
       "      <td>GACB.LON</td>\n",
       "      <td>0.644068</td>\n",
       "    </tr>\n",
       "    <tr>\n",
       "      <th>61</th>\n",
       "      <td>MCT.LON</td>\n",
       "      <td>0.644068</td>\n",
       "    </tr>\n",
       "    <tr>\n",
       "      <th>62</th>\n",
       "      <td>JPEL.LON</td>\n",
       "      <td>0.644068</td>\n",
       "    </tr>\n",
       "    <tr>\n",
       "      <th>63</th>\n",
       "      <td>ELLA.LON</td>\n",
       "      <td>0.644068</td>\n",
       "    </tr>\n",
       "    <tr>\n",
       "      <th>...</th>\n",
       "      <td>...</td>\n",
       "      <td>...</td>\n",
       "    </tr>\n",
       "    <tr>\n",
       "      <th>995</th>\n",
       "      <td>CTY.LON</td>\n",
       "      <td>0.508475</td>\n",
       "    </tr>\n",
       "    <tr>\n",
       "      <th>996</th>\n",
       "      <td>ANII.LON</td>\n",
       "      <td>0.500000</td>\n",
       "    </tr>\n",
       "    <tr>\n",
       "      <th>997</th>\n",
       "      <td>WWH.LON</td>\n",
       "      <td>0.500000</td>\n",
       "    </tr>\n",
       "    <tr>\n",
       "      <th>998</th>\n",
       "      <td>CLDN.LON</td>\n",
       "      <td>0.500000</td>\n",
       "    </tr>\n",
       "    <tr>\n",
       "      <th>999</th>\n",
       "      <td>IEM.LON</td>\n",
       "      <td>0.500000</td>\n",
       "    </tr>\n",
       "  </tbody>\n",
       "</table>\n",
       "<p>941 rows × 2 columns</p>\n",
       "</div>"
      ],
      "text/plain": [
       "       symbol       nas\n",
       "59   GACA.LON  0.644068\n",
       "60   GACB.LON  0.644068\n",
       "61    MCT.LON  0.644068\n",
       "62   JPEL.LON  0.644068\n",
       "63   ELLA.LON  0.644068\n",
       "..        ...       ...\n",
       "995   CTY.LON  0.508475\n",
       "996  ANII.LON  0.500000\n",
       "997   WWH.LON  0.500000\n",
       "998  CLDN.LON  0.500000\n",
       "999   IEM.LON  0.500000\n",
       "\n",
       "[941 rows x 2 columns]"
      ]
     },
     "execution_count": 39,
     "metadata": {},
     "output_type": "execute_result"
    }
   ],
   "source": [
    "df"
   ]
  },
  {
   "cell_type": "code",
   "execution_count": 34,
   "metadata": {},
   "outputs": [
    {
     "data": {
      "text/plain": [
       "<matplotlib.axes._subplots.AxesSubplot at 0x7fb04985ea20>"
      ]
     },
     "execution_count": 34,
     "metadata": {},
     "output_type": "execute_result"
    },
    {
     "data": {
      "image/png": "[encoded data removed]",
      "text/plain": [
       "<Figure size 432x288 with 1 Axes>"
      ]
     },
     "metadata": {
      "needs_background": "light"
     },
     "output_type": "display_data"
    }
   ],
   "source": [
    "df.isna().apply('mean', axis=1).plot()"
   ]
  },
  {
   "cell_type": "code",
   "execution_count": 35,
   "metadata": {},
   "outputs": [
    {
     "data": {
      "text/plain": [
       "symbol\n",
       "GACA.LON    0.0\n",
       "GACB.LON    0.0\n",
       "MCT.LON     0.0\n",
       "JPEL.LON    0.0\n",
       "ELLA.LON    0.0\n",
       "           ... \n",
       "CTY.LON     0.0\n",
       "ANII.LON    0.0\n",
       "WWH.LON     0.0\n",
       "CLDN.LON    0.0\n",
       "IEM.LON     0.0\n",
       "Length: 941, dtype: float64"
      ]
     },
     "execution_count": 35,
     "metadata": {},
     "output_type": "execute_result"
    }
   ],
   "source": [
    "df.isna().apply('mean', axis=1)"
   ]
  },
  {
   "cell_type": "code",
   "execution_count": null,
   "metadata": {},
   "outputs": [],
   "source": []
  }
 ],
 "metadata": {
  "kernelspec": {
   "display_name": "Python 3",
   "language": "python",
   "name": "python3"
  },
  "language_info": {
   "codemirror_mode": {
    "name": "ipython",
    "version": 3
   },
   "file_extension": ".py",
   "mimetype": "text/x-python",
   "name": "python",
   "nbconvert_exporter": "python",
   "pygments_lexer": "ipython3",
   "version": "3.6.9"
  }
 },
 "nbformat": 4,
 "nbformat_minor": 4
}
