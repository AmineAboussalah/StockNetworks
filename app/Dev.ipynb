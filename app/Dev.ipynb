{
 "cells": [
  {
   "cell_type": "code",
   "execution_count": 150,
   "metadata": {},
   "outputs": [],
   "source": [
    "from datetime import datetime\n",
    "from utils import get_pg_engine\n",
    "import pandas as pd\n",
    "import numpy as np"
   ]
  },
  {
   "cell_type": "code",
   "execution_count": 124,
   "metadata": {},
   "outputs": [],
   "source": [
    "def clean_and_format(start_date = '2019-01-01', end_date = datetime.now().strftime('%Y-%m-%d'), num_stocks = 1000):\n",
    "    \n",
    "\n",
    "    assert num_stocks > 20, 'To build an interesting analysis, make sure the number of stocks to use is at least 20'\n",
    "\n",
    "    start_date_fmt = datetime.strptime(start_date, '%Y-%m-%d')\n",
    "    end_date_fmt = datetime.strptime(end_date, '%Y-%m-%d')\n",
    "    diff = end_date_fmt - start_date_fmt\n",
    "    assert int(diff.days/7) > 12, 'For more meaningful correlations increase the window between the start_date and end_date (at least 12 weeks)'\n",
    "\n",
    "    engine = get_pg_engine()\n",
    "\n",
    "    engine.execute(\"CREATE TABLE IF NOT EXISTS correlations (window_id text, start_date date, end_date date, symbol_a text, symbol_b text, correlation double precision)\")\n",
    "\n",
    "    stocks = pd.read_sql(f'select symbol, sum(volume) as volume \\\n",
    "                       from price \\\n",
    "                       where timestamp between \\'{start_date}\\' and \\'{end_date}\\' \\\n",
    "                       group by symbol \\\n",
    "                       order by sum(volume) desc \\\n",
    "                       limit {num_stocks}', engine)\n",
    "    \n",
    "    relevant_stocks = ','.join([f\"'{stock}'\" for stock in stocks['symbol'].tolist()])\n",
    "\n",
    "    price_data = pd.read_sql(f\"select timestamp, symbol, open as price\\\n",
    "                            from price\\\n",
    "                            where \\\"timestamp\\\" between \\'{start_date}\\' and \\'{end_date}\\'\\\n",
    "                            and symbol in ({relevant_stocks})\", engine)\n",
    "\n",
    "    price_data = price_data.pivot(index='timestamp', columns='symbol', values='price')\n",
    "    drop_stocks = price_data.isna().apply('mean').sort_values(ascending=False).reset_index()\\\n",
    "    .rename(columns={0:'nas'}).query('nas > 0.65')\n",
    "    print(f\"Will drop {len(drop_stocks)} stocks from the total list, dropping high missing values\")\n",
    "    \n",
    "    price_data = price_data.loc[:,~price_data.columns.isin(drop_stocks['symbol'])]\n",
    "    \n",
    "    print(f\"Now cleaning dates\")\n",
    "    keep_dates = pd.Series(price_data.index).reset_index()\\\n",
    "    .assign(dow = lambda df: pd.to_datetime(df['timestamp']).dt.day_name()).query('dow == \"Friday\"')\n",
    "    price_data = price_data.fillna(method='ffill')\n",
    "    price_data = price_data.loc[price_data.index.isin(keep_dates['timestamp'])]\n",
    "    \n",
    "    drop_stocks = price_data.isna().apply('mean').reset_index().rename(columns = {0:'nas'}).query('nas > 0.1')\n",
    "    print(f\"Will additionally drop {len(drop_stocks)} due to high missingness at start of period\")\n",
    "    if len(drop_stocks) >0:\n",
    "        price_data = price_data.loc[:,~price_data.columns.isin(drop_stocks['symbol'])]\n",
    "    \n",
    "    return price_data\n",
    "       "
   ]
  },
  {
   "cell_type": "code",
   "execution_count": 125,
   "metadata": {},
   "outputs": [
    {
     "name": "stdout",
     "output_type": "stream",
     "text": [
      "Will drop 62 stocks from the total list, dropping high missing values\n",
      "Now cleaning dates\n",
      "Will additionally drop 4 due to high missingness at start of period\n"
     ]
    }
   ],
   "source": [
    "df = clean_and_format()"
   ]
  },
  {
   "cell_type": "code",
   "execution_count": 166,
   "metadata": {},
   "outputs": [],
   "source": [
    "def build_correlation(df):\n",
    "    print(\"Deduping pairings\")\n",
    "    df_out = df.corr().reset_index().melt(id_vars='symbol', var_name='cor').query('symbol != cor')\n",
    "    df_out = df_out[pd.DataFrame(np.sort(df_out[['symbol','cor']].values,1)).duplicated().values]\n",
    "    df_out = df_out.rename(columns={'symbol':'symbol1', 'cor':'symbol2','value':'cor'})\n",
    "    return df_out"
   ]
  },
  {
   "cell_type": "code",
   "execution_count": 167,
   "metadata": {},
   "outputs": [
    {
     "name": "stdout",
     "output_type": "stream",
     "text": [
      "Deduping pairings\n"
     ]
    }
   ],
   "source": [
    "df_c = build_correlation(df)"
   ]
  },
  {
   "cell_type": "code",
   "execution_count": 169,
   "metadata": {},
   "outputs": [
    {
     "data": {
      "text/plain": [
       "<matplotlib.axes._subplots.AxesSubplot at 0x7f0ce46fba20>"
      ]
     },
     "execution_count": 169,
     "metadata": {},
     "output_type": "execute_result"
    },
    {
     "data": {
      "image/png": "[encoded data removed]",
      "text/plain": [
       "<Figure size 432x288 with 1 Axes>"
      ]
     },
     "metadata": {
      "needs_background": "light"
     },
     "output_type": "display_data"
    }
   ],
   "source": [
    "df_c['cor'].hist()"
   ]
  },
  {
   "cell_type": "code",
   "execution_count": 160,
   "metadata": {},
   "outputs": [
    {
     "data": {
      "text/html": [
       "<div>\n",
       "<style scoped>\n",
       "    .dataframe tbody tr th:only-of-type {\n",
       "        vertical-align: middle;\n",
       "    }\n",
       "\n",
       "    .dataframe tbody tr th {\n",
       "        vertical-align: top;\n",
       "    }\n",
       "\n",
       "    .dataframe thead th {\n",
       "        text-align: right;\n",
       "    }\n",
       "</style>\n",
       "<table border=\"1\" class=\"dataframe\">\n",
       "  <thead>\n",
       "    <tr style=\"text-align: right;\">\n",
       "      <th></th>\n",
       "      <th>symbol</th>\n",
       "      <th>cor</th>\n",
       "      <th>value</th>\n",
       "    </tr>\n",
       "  </thead>\n",
       "  <tbody>\n",
       "    <tr>\n",
       "      <th>934</th>\n",
       "      <td>3BAL.LON</td>\n",
       "      <td>3CFL.LON</td>\n",
       "      <td>0.243289</td>\n",
       "    </tr>\n",
       "    <tr>\n",
       "      <th>1868</th>\n",
       "      <td>3BAL.LON</td>\n",
       "      <td>3IN.LON</td>\n",
       "      <td>0.391466</td>\n",
       "    </tr>\n",
       "    <tr>\n",
       "      <th>1869</th>\n",
       "      <td>3CFL.LON</td>\n",
       "      <td>3IN.LON</td>\n",
       "      <td>0.213488</td>\n",
       "    </tr>\n",
       "    <tr>\n",
       "      <th>2802</th>\n",
       "      <td>3BAL.LON</td>\n",
       "      <td>3ITS.LON</td>\n",
       "      <td>-0.114722</td>\n",
       "    </tr>\n",
       "    <tr>\n",
       "      <th>2803</th>\n",
       "      <td>3CFL.LON</td>\n",
       "      <td>3ITS.LON</td>\n",
       "      <td>0.658207</td>\n",
       "    </tr>\n",
       "    <tr>\n",
       "      <th>...</th>\n",
       "      <td>...</td>\n",
       "      <td>...</td>\n",
       "      <td>...</td>\n",
       "    </tr>\n",
       "    <tr>\n",
       "      <th>872350</th>\n",
       "      <td>XPP.LON</td>\n",
       "      <td>ZTF.LON</td>\n",
       "      <td>-0.626483</td>\n",
       "    </tr>\n",
       "    <tr>\n",
       "      <th>872351</th>\n",
       "      <td>XPS.LON</td>\n",
       "      <td>ZTF.LON</td>\n",
       "      <td>0.528104</td>\n",
       "    </tr>\n",
       "    <tr>\n",
       "      <th>872352</th>\n",
       "      <td>XRES.LON</td>\n",
       "      <td>ZTF.LON</td>\n",
       "      <td>-0.768101</td>\n",
       "    </tr>\n",
       "    <tr>\n",
       "      <th>872353</th>\n",
       "      <td>ZEG.LON</td>\n",
       "      <td>ZTF.LON</td>\n",
       "      <td>0.666942</td>\n",
       "    </tr>\n",
       "    <tr>\n",
       "      <th>872354</th>\n",
       "      <td>ZEN.LON</td>\n",
       "      <td>ZTF.LON</td>\n",
       "      <td>0.320999</td>\n",
       "    </tr>\n",
       "  </tbody>\n",
       "</table>\n",
       "<p>435711 rows × 3 columns</p>\n",
       "</div>"
      ],
      "text/plain": [
       "          symbol       cor     value\n",
       "934     3BAL.LON  3CFL.LON  0.243289\n",
       "1868    3BAL.LON   3IN.LON  0.391466\n",
       "1869    3CFL.LON   3IN.LON  0.213488\n",
       "2802    3BAL.LON  3ITS.LON -0.114722\n",
       "2803    3CFL.LON  3ITS.LON  0.658207\n",
       "...          ...       ...       ...\n",
       "872350   XPP.LON   ZTF.LON -0.626483\n",
       "872351   XPS.LON   ZTF.LON  0.528104\n",
       "872352  XRES.LON   ZTF.LON -0.768101\n",
       "872353   ZEG.LON   ZTF.LON  0.666942\n",
       "872354   ZEN.LON   ZTF.LON  0.320999\n",
       "\n",
       "[435711 rows x 3 columns]"
      ]
     },
     "execution_count": 160,
     "metadata": {},
     "output_type": "execute_result"
    }
   ],
   "source": [
    "df_out[pd.DataFrame(np.sort(df_out[['symbol','cor']].values,1)).duplicated().values]"
   ]
  },
  {
   "cell_type": "code",
   "execution_count": null,
   "metadata": {},
   "outputs": [],
   "source": []
  }
 ],
 "metadata": {
  "kernelspec": {
   "display_name": "Python 3",
   "language": "python",
   "name": "python3"
  },
  "language_info": {
   "codemirror_mode": {
    "name": "ipython",
    "version": 3
   },
   "file_extension": ".py",
   "mimetype": "text/x-python",
   "name": "python",
   "nbconvert_exporter": "python",
   "pygments_lexer": "ipython3",
   "version": "3.6.8"
  }
 },
 "nbformat": 4,
 "nbformat_minor": 4
}
