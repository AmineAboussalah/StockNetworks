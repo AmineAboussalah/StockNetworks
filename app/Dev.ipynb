{
 "cells": [
  {
   "cell_type": "code",
   "execution_count": 1,
   "metadata": {},
   "outputs": [],
   "source": [
    "from datetime import datetime\n",
    "from utils import get_pg_engine\n",
    "import pandas as pd\n",
    "import numpy as np"
   ]
  },
  {
   "cell_type": "code",
   "execution_count": 2,
   "metadata": {},
   "outputs": [],
   "source": [
    "engine = get_pg_engine()"
   ]
  },
  {
   "cell_type": "code",
   "execution_count": 3,
   "metadata": {},
   "outputs": [],
   "source": [
    "corrs = pd.read_sql('select * from correlations_2019_01_01_2020_01_19_1000', engine)"
   ]
  },
  {
   "cell_type": "code",
   "execution_count": 4,
   "metadata": {},
   "outputs": [
    {
     "data": {
      "text/plain": [
       "(435711, 5)"
      ]
     },
     "execution_count": 4,
     "metadata": {},
     "output_type": "execute_result"
    }
   ],
   "source": [
    "corrs.shape"
   ]
  },
  {
   "cell_type": "code",
   "execution_count": 6,
   "metadata": {},
   "outputs": [
    {
     "data": {
      "text/html": [
       "<div>\n",
       "<style scoped>\n",
       "    .dataframe tbody tr th:only-of-type {\n",
       "        vertical-align: middle;\n",
       "    }\n",
       "\n",
       "    .dataframe tbody tr th {\n",
       "        vertical-align: top;\n",
       "    }\n",
       "\n",
       "    .dataframe thead th {\n",
       "        text-align: right;\n",
       "    }\n",
       "</style>\n",
       "<table border=\"1\" class=\"dataframe\">\n",
       "  <thead>\n",
       "    <tr style=\"text-align: right;\">\n",
       "      <th></th>\n",
       "      <th>index</th>\n",
       "      <th>symbol1</th>\n",
       "      <th>symbol2</th>\n",
       "      <th>cor</th>\n",
       "      <th>id</th>\n",
       "    </tr>\n",
       "  </thead>\n",
       "  <tbody>\n",
       "    <tr>\n",
       "      <th>184</th>\n",
       "      <td>101816</td>\n",
       "      <td>AAIF</td>\n",
       "      <td>BIOG</td>\n",
       "      <td>0.996575</td>\n",
       "      <td>2019_01_01_2020_01_19_1000</td>\n",
       "    </tr>\n",
       "    <tr>\n",
       "      <th>186</th>\n",
       "      <td>101818</td>\n",
       "      <td>AAS</td>\n",
       "      <td>BIOG</td>\n",
       "      <td>0.996441</td>\n",
       "      <td>2019_01_01_2020_01_19_1000</td>\n",
       "    </tr>\n",
       "    <tr>\n",
       "      <th>190</th>\n",
       "      <td>101822</td>\n",
       "      <td>ADIG</td>\n",
       "      <td>BIOG</td>\n",
       "      <td>0.994532</td>\n",
       "      <td>2019_01_01_2020_01_19_1000</td>\n",
       "    </tr>\n",
       "    <tr>\n",
       "      <th>192</th>\n",
       "      <td>101824</td>\n",
       "      <td>AEFS</td>\n",
       "      <td>BIOG</td>\n",
       "      <td>0.963909</td>\n",
       "      <td>2019_01_01_2020_01_19_1000</td>\n",
       "    </tr>\n",
       "    <tr>\n",
       "      <th>193</th>\n",
       "      <td>101825</td>\n",
       "      <td>AEMC</td>\n",
       "      <td>BIOG</td>\n",
       "      <td>0.996316</td>\n",
       "      <td>2019_01_01_2020_01_19_1000</td>\n",
       "    </tr>\n",
       "    <tr>\n",
       "      <th>194</th>\n",
       "      <td>101826</td>\n",
       "      <td>AEWL</td>\n",
       "      <td>BIOG</td>\n",
       "      <td>0.988132</td>\n",
       "      <td>2019_01_01_2020_01_19_1000</td>\n",
       "    </tr>\n",
       "    <tr>\n",
       "      <th>195</th>\n",
       "      <td>101827</td>\n",
       "      <td>AEWU</td>\n",
       "      <td>BIOG</td>\n",
       "      <td>0.996533</td>\n",
       "      <td>2019_01_01_2020_01_19_1000</td>\n",
       "    </tr>\n",
       "    <tr>\n",
       "      <th>206</th>\n",
       "      <td>101838</td>\n",
       "      <td>AIE</td>\n",
       "      <td>BIOG</td>\n",
       "      <td>0.993276</td>\n",
       "      <td>2019_01_01_2020_01_19_1000</td>\n",
       "    </tr>\n",
       "    <tr>\n",
       "      <th>207</th>\n",
       "      <td>101839</td>\n",
       "      <td>AIF</td>\n",
       "      <td>BIOG</td>\n",
       "      <td>0.959165</td>\n",
       "      <td>2019_01_01_2020_01_19_1000</td>\n",
       "    </tr>\n",
       "    <tr>\n",
       "      <th>213</th>\n",
       "      <td>101845</td>\n",
       "      <td>AJOT</td>\n",
       "      <td>BIOG</td>\n",
       "      <td>0.997704</td>\n",
       "      <td>2019_01_01_2020_01_19_1000</td>\n",
       "    </tr>\n",
       "    <tr>\n",
       "      <th>214</th>\n",
       "      <td>101846</td>\n",
       "      <td>ALAI</td>\n",
       "      <td>BIOG</td>\n",
       "      <td>0.996112</td>\n",
       "      <td>2019_01_01_2020_01_19_1000</td>\n",
       "    </tr>\n",
       "    <tr>\n",
       "      <th>225</th>\n",
       "      <td>101857</td>\n",
       "      <td>APAX</td>\n",
       "      <td>BIOG</td>\n",
       "      <td>0.997300</td>\n",
       "      <td>2019_01_01_2020_01_19_1000</td>\n",
       "    </tr>\n",
       "    <tr>\n",
       "      <th>230</th>\n",
       "      <td>101862</td>\n",
       "      <td>ARR</td>\n",
       "      <td>BIOG</td>\n",
       "      <td>0.964080</td>\n",
       "      <td>2019_01_01_2020_01_19_1000</td>\n",
       "    </tr>\n",
       "    <tr>\n",
       "      <th>234</th>\n",
       "      <td>101866</td>\n",
       "      <td>ASEI</td>\n",
       "      <td>BIOG</td>\n",
       "      <td>0.994597</td>\n",
       "      <td>2019_01_01_2020_01_19_1000</td>\n",
       "    </tr>\n",
       "    <tr>\n",
       "      <th>236</th>\n",
       "      <td>101868</td>\n",
       "      <td>ASIT</td>\n",
       "      <td>BIOG</td>\n",
       "      <td>0.996782</td>\n",
       "      <td>2019_01_01_2020_01_19_1000</td>\n",
       "    </tr>\n",
       "    <tr>\n",
       "      <th>237</th>\n",
       "      <td>101869</td>\n",
       "      <td>ASIZ</td>\n",
       "      <td>BIOG</td>\n",
       "      <td>0.996075</td>\n",
       "      <td>2019_01_01_2020_01_19_1000</td>\n",
       "    </tr>\n",
       "    <tr>\n",
       "      <th>238</th>\n",
       "      <td>101870</td>\n",
       "      <td>ASL</td>\n",
       "      <td>BIOG</td>\n",
       "      <td>0.997408</td>\n",
       "      <td>2019_01_01_2020_01_19_1000</td>\n",
       "    </tr>\n",
       "    <tr>\n",
       "      <th>239</th>\n",
       "      <td>101871</td>\n",
       "      <td>ASLI</td>\n",
       "      <td>BIOG</td>\n",
       "      <td>0.993926</td>\n",
       "      <td>2019_01_01_2020_01_19_1000</td>\n",
       "    </tr>\n",
       "    <tr>\n",
       "      <th>243</th>\n",
       "      <td>101875</td>\n",
       "      <td>ATS</td>\n",
       "      <td>BIOG</td>\n",
       "      <td>0.997776</td>\n",
       "      <td>2019_01_01_2020_01_19_1000</td>\n",
       "    </tr>\n",
       "    <tr>\n",
       "      <th>247</th>\n",
       "      <td>101879</td>\n",
       "      <td>AUGM</td>\n",
       "      <td>BIOG</td>\n",
       "      <td>0.994186</td>\n",
       "      <td>2019_01_01_2020_01_19_1000</td>\n",
       "    </tr>\n",
       "  </tbody>\n",
       "</table>\n",
       "</div>"
      ],
      "text/plain": [
       "      index symbol1 symbol2       cor                          id\n",
       "184  101816    AAIF    BIOG  0.996575  2019_01_01_2020_01_19_1000\n",
       "186  101818     AAS    BIOG  0.996441  2019_01_01_2020_01_19_1000\n",
       "190  101822    ADIG    BIOG  0.994532  2019_01_01_2020_01_19_1000\n",
       "192  101824    AEFS    BIOG  0.963909  2019_01_01_2020_01_19_1000\n",
       "193  101825    AEMC    BIOG  0.996316  2019_01_01_2020_01_19_1000\n",
       "194  101826    AEWL    BIOG  0.988132  2019_01_01_2020_01_19_1000\n",
       "195  101827    AEWU    BIOG  0.996533  2019_01_01_2020_01_19_1000\n",
       "206  101838     AIE    BIOG  0.993276  2019_01_01_2020_01_19_1000\n",
       "207  101839     AIF    BIOG  0.959165  2019_01_01_2020_01_19_1000\n",
       "213  101845    AJOT    BIOG  0.997704  2019_01_01_2020_01_19_1000\n",
       "214  101846    ALAI    BIOG  0.996112  2019_01_01_2020_01_19_1000\n",
       "225  101857    APAX    BIOG  0.997300  2019_01_01_2020_01_19_1000\n",
       "230  101862     ARR    BIOG  0.964080  2019_01_01_2020_01_19_1000\n",
       "234  101866    ASEI    BIOG  0.994597  2019_01_01_2020_01_19_1000\n",
       "236  101868    ASIT    BIOG  0.996782  2019_01_01_2020_01_19_1000\n",
       "237  101869    ASIZ    BIOG  0.996075  2019_01_01_2020_01_19_1000\n",
       "238  101870     ASL    BIOG  0.997408  2019_01_01_2020_01_19_1000\n",
       "239  101871    ASLI    BIOG  0.993926  2019_01_01_2020_01_19_1000\n",
       "243  101875     ATS    BIOG  0.997776  2019_01_01_2020_01_19_1000\n",
       "247  101879    AUGM    BIOG  0.994186  2019_01_01_2020_01_19_1000"
      ]
     },
     "execution_count": 6,
     "metadata": {},
     "output_type": "execute_result"
    }
   ],
   "source": [
    "corrs[corrs['cor'] > 0.95].head(20)"
   ]
  },
  {
   "cell_type": "code",
   "execution_count": 35,
   "metadata": {},
   "outputs": [],
   "source": [
    "price = pd.read_sql('select * from price \\\n",
    "    where \\\n",
    "     (\"timestamp\" between \\'2019-01-01-\\' and \\'2020-01-19\\')', engine)"
   ]
  },
  {
   "cell_type": "code",
   "execution_count": 36,
   "metadata": {},
   "outputs": [
    {
     "data": {
      "text/plain": [
       "<matplotlib.axes._subplots.AxesSubplot at 0x7f0f64c16be0>"
      ]
     },
     "execution_count": 36,
     "metadata": {},
     "output_type": "execute_result"
    },
    {
     "data": {
      "image/png": "[encoded data removed]",
      "text/plain": [
       "<Figure size 864x432 with 1 Axes>"
      ]
     },
     "metadata": {
      "needs_background": "light"
     },
     "output_type": "display_data"
    }
   ],
   "source": [
    "price[price['symbol'].isin(['AAS.LON','BIOG.LON'])][['timestamp','close','symbol']].pivot(index = 'timestamp', values = 'close', columns='symbol')\\\n",
    ".plot(figsize=(12,6))"
   ]
  },
  {
   "cell_type": "code",
   "execution_count": 54,
   "metadata": {},
   "outputs": [],
   "source": [
    "stdevs = price.groupby('symbol')['close'].apply(lambda x: np.std(x)/x.mean())"
   ]
  },
  {
   "cell_type": "code",
   "execution_count": 60,
   "metadata": {},
   "outputs": [
    {
     "data": {
      "text/plain": [
       "symbol\n",
       "HMJP.LON    4.625850\n",
       "FEUZ.LON    4.615874\n",
       "MXEU.LON    4.477829\n",
       "MVEX.LON    4.471946\n",
       "IEER.LON    4.464599\n",
       "IAPD.LON    4.330008\n",
       "CU31.LON    4.277057\n",
       "AERI.LON    4.271890\n",
       "FLXD.LON    3.206049\n",
       "FLES.LON    3.202004\n",
       "CSP1.LON    2.875713\n",
       "HMUS.LON    2.814608\n",
       "FJP.LON     2.737748\n",
       "AASG.LON    2.733610\n",
       "CGI.LON     2.336697\n",
       "IQSA.LON    2.278346\n",
       "CEUG.LON    2.247709\n",
       "FLOS.LON    2.237883\n",
       "WINV.LON    2.211286\n",
       "SONC.LON    2.207507\n",
       "ES15.LON    2.139123\n",
       "GRIT.LON    2.124569\n",
       "ITKY.LON    2.082472\n",
       "CBUG.LON    2.043164\n",
       "BCPT.LON    2.005875\n",
       "Name: close, dtype: float64"
      ]
     },
     "execution_count": 60,
     "metadata": {},
     "output_type": "execute_result"
    }
   ],
   "source": [
    "stdevs[stdevs>0].sort_values(ascending=False).head(25)"
   ]
  },
  {
   "cell_type": "code",
   "execution_count": 62,
   "metadata": {},
   "outputs": [
    {
     "data": {
      "text/plain": [
       "894    1081.9200\n",
       "895    1080.0000\n",
       "896    1075.0000\n",
       "897      12.2048\n",
       "898      12.1585\n",
       "899      12.0711\n",
       "900      11.7820\n",
       "901      11.8348\n",
       "902    1067.5000\n",
       "903      12.0283\n",
       "904      11.9994\n",
       "905      12.1412\n",
       "906      11.8299\n",
       "907    1040.0000\n",
       "908      11.6139\n",
       "909      11.6984\n",
       "910    1080.0000\n",
       "911      12.1631\n",
       "912      11.9889\n",
       "913      12.1945\n",
       "914      12.1025\n",
       "915    1090.0000\n",
       "916      12.1865\n",
       "917      12.3361\n",
       "918      12.5308\n",
       "919      12.6805\n",
       "920      12.7942\n",
       "921      12.7809\n",
       "922      12.6919\n",
       "923      12.6826\n",
       "924      12.3206\n",
       "925      12.3114\n",
       "926    1075.0000\n",
       "927    1070.0000\n",
       "928      12.0163\n",
       "929    1035.0000\n",
       "930    1037.5000\n",
       "931    1037.5000\n",
       "932    1055.0000\n",
       "933    1060.0000\n",
       "934    1070.0000\n",
       "935    1062.5000\n",
       "936    1050.0000\n",
       "937    1045.0000\n",
       "938    1030.0000\n",
       "939    1055.0000\n",
       "940    1030.0000\n",
       "941    1052.5000\n",
       "942    1052.5000\n",
       "943    1062.5000\n",
       "944    1045.0000\n",
       "945    1040.0000\n",
       "946    1030.0000\n",
       "947    1042.5000\n",
       "948    1040.0000\n",
       "949    1012.5000\n",
       "Name: close, dtype: float64"
      ]
     },
     "execution_count": 62,
     "metadata": {},
     "output_type": "execute_result"
    }
   ],
   "source": [
    "price[price['symbol'] == 'AAS.LON']['close']"
   ]
  },
  {
   "cell_type": "code",
   "execution_count": null,
   "metadata": {},
   "outputs": [],
   "source": []
  }
 ],
 "metadata": {
  "kernelspec": {
   "display_name": "Python 3",
   "language": "python",
   "name": "python3"
  },
  "language_info": {
   "codemirror_mode": {
    "name": "ipython",
    "version": 3
   },
   "file_extension": ".py",
   "mimetype": "text/x-python",
   "name": "python",
   "nbconvert_exporter": "python",
   "pygments_lexer": "ipython3",
   "version": "3.6.8"
  }
 },
 "nbformat": 4,
 "nbformat_minor": 4
}
